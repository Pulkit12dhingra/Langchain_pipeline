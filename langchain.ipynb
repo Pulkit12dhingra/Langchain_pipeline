{
 "cells": [
  {
   "cell_type": "code",
   "execution_count": null,
   "id": "3ce17292",
   "metadata": {},
   "outputs": [],
   "source": [
    "# loading the text file conversation\n",
    "\n",
    "from langchain.document_loaders import TextLoader\n",
    "loader = TextLoader(\"conversation.txt\")  # replace with your file\n",
    "documents = loader.load()"
   ]
  },
  {
   "cell_type": "code",
   "execution_count": null,
   "id": "8d4162fb",
   "metadata": {},
   "outputs": [],
   "source": [
    "# split the big text into smaller chunks\n",
    "\n",
    "from langchain.text_splitter import RecursiveCharacterTextSplitter\n",
    "\n",
    "text_splitter = RecursiveCharacterTextSplitter(chunk_size=500, chunk_overlap=50)\n",
    "chunks = text_splitter.split_documents(documents)"
   ]
  },
  {
   "cell_type": "code",
   "execution_count": 3,
   "id": "a35b885d",
   "metadata": {},
   "outputs": [
    {
     "name": "stderr",
     "output_type": "stream",
     "text": [
      "/var/folders/cr/zw_bcxpn257g4khbkhrtn_vm0000gn/T/ipykernel_13294/2721590312.py:4: LangChainDeprecationWarning: The class `HuggingFaceEmbeddings` was deprecated in LangChain 0.2.2 and will be removed in 1.0. An updated version of the class exists in the :class:`~langchain-huggingface package and should be used instead. To use it run `pip install -U :class:`~langchain-huggingface` and import as `from :class:`~langchain_huggingface import HuggingFaceEmbeddings``.\n",
      "  embedding_model = HuggingFaceEmbeddings(model_name=\"sentence-transformers/all-MiniLM-L6-v2\")\n"
     ]
    }
   ],
   "source": [
    "# embedding the text chunks\n",
    "\n",
    "from langchain.embeddings import HuggingFaceEmbeddings\n",
    "embedding_model = HuggingFaceEmbeddings(model_name=\"sentence-transformers/all-MiniLM-L6-v2\")\n",
    "\n"
   ]
  },
  {
   "cell_type": "code",
   "execution_count": 4,
   "id": "b313bf1a",
   "metadata": {},
   "outputs": [],
   "source": [
    "from langchain.vectorstores import FAISS\n",
    "\n",
    "vectorstore = FAISS.from_documents(chunks, embedding=embedding_model)\n",
    "retriever = vectorstore.as_retriever()\n"
   ]
  },
  {
   "cell_type": "code",
   "execution_count": 5,
   "id": "a7ca51c4",
   "metadata": {},
   "outputs": [
    {
     "name": "stderr",
     "output_type": "stream",
     "text": [
      "/var/folders/cr/zw_bcxpn257g4khbkhrtn_vm0000gn/T/ipykernel_13294/1690118755.py:4: LangChainDeprecationWarning: The class `Ollama` was deprecated in LangChain 0.3.1 and will be removed in 1.0.0. An updated version of the class exists in the :class:`~langchain-ollama package and should be used instead. To use it run `pip install -U :class:`~langchain-ollama` and import as `from :class:`~langchain_ollama import OllamaLLM``.\n",
      "  llm = Ollama(model=\"gemma3\")\n"
     ]
    }
   ],
   "source": [
    "from langchain.llms import Ollama\n",
    "\n",
    "# Initialize Ollama with the gemma3 model\n",
    "llm = Ollama(model=\"gemma3\")\n",
    "  "
   ]
  },
  {
   "cell_type": "code",
   "execution_count": 6,
   "id": "adc1b415",
   "metadata": {},
   "outputs": [
    {
     "name": "stderr",
     "output_type": "stream",
     "text": [
      "/var/folders/cr/zw_bcxpn257g4khbkhrtn_vm0000gn/T/ipykernel_13294/303383745.py:11: LangChainDeprecationWarning: The method `Chain.__call__` was deprecated in langchain 0.1.0 and will be removed in 1.0. Use :meth:`~invoke` instead.\n",
      "  response = rag_chain(query)\n"
     ]
    },
    {
     "name": "stdout",
     "output_type": "stream",
     "text": [
      "Answer: Here's a summary of the text:\n",
      "\n",
      "The text consists of four SMS messages sent on March 29th, 2025. The messages were sent from different phone numbers (+918765060836 and +919984625856) and contain varying messages including \"Test\", \"Action\", \"Ye test msg main using python automated way me bheja h...\", and \"Boobiee!!!!!\".\n"
     ]
    }
   ],
   "source": [
    "from langchain.chains import RetrievalQA\n",
    "# Step 6: RAG chain\n",
    "rag_chain = RetrievalQA.from_chain_type(\n",
    "    llm=llm,\n",
    "    retriever=retriever,\n",
    "    return_source_documents=True\n",
    ")\n",
    "\n",
    "# Step 7: Ask a question\n",
    "query = \"What is the summary of the text?\"\n",
    "response = rag_chain(query)\n",
    "\n",
    "print(\"Answer:\", response['result'])"
   ]
  },
  {
   "cell_type": "code",
   "execution_count": null,
   "id": "c1151ecb",
   "metadata": {},
   "outputs": [],
   "source": []
  }
 ],
 "metadata": {
  "kernelspec": {
   "display_name": "base",
   "language": "python",
   "name": "python3"
  },
  "language_info": {
   "codemirror_mode": {
    "name": "ipython",
    "version": 3
   },
   "file_extension": ".py",
   "mimetype": "text/x-python",
   "name": "python",
   "nbconvert_exporter": "python",
   "pygments_lexer": "ipython3",
   "version": "3.12.7"
  }
 },
 "nbformat": 4,
 "nbformat_minor": 5
}
