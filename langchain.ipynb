{
 "cells": [
  {
   "cell_type": "code",
   "execution_count": 8,
   "id": "3ce17292",
   "metadata": {},
   "outputs": [],
   "source": [
    "# loading the text file conversation\n",
    "from langchain.document_loaders import TextLoader\n",
    "\n",
    "# use os module to go through the directory and load the text files\n",
    "import os \n",
    "# Store all loaded documents\n",
    "documents = []\n",
    "\n",
    "data_dir = \"data\"  # replace with your directory\n",
    "# Loop through all files in the directory\n",
    "for filename in os.listdir(data_dir):\n",
    "    if filename.endswith(\".txt\"):\n",
    "        file_path = os.path.join(data_dir, filename)\n",
    "        loader = TextLoader(file_path)\n",
    "        documents.extend(loader.load())  # append loaded documents\n"
   ]
  },
  {
   "cell_type": "code",
   "execution_count": 10,
   "id": "8d4162fb",
   "metadata": {},
   "outputs": [],
   "source": [
    "# split the big text into smaller chunks\n",
    "\n",
    "from langchain.text_splitter import RecursiveCharacterTextSplitter\n",
    "\n",
    "text_splitter = RecursiveCharacterTextSplitter(chunk_size=500, chunk_overlap=50)\n",
    "chunks = text_splitter.split_documents(documents)"
   ]
  },
  {
   "cell_type": "code",
   "execution_count": 11,
   "id": "a35b885d",
   "metadata": {},
   "outputs": [],
   "source": [
    "# embedding the text chunks\n",
    "\n",
    "from langchain.embeddings import HuggingFaceEmbeddings\n",
    "embedding_model = HuggingFaceEmbeddings(model_name=\"sentence-transformers/all-MiniLM-L6-v2\")\n",
    "\n"
   ]
  },
  {
   "cell_type": "code",
   "execution_count": 12,
   "id": "b313bf1a",
   "metadata": {},
   "outputs": [],
   "source": [
    "from langchain.vectorstores import FAISS\n",
    "\n",
    "vectorstore = FAISS.from_documents(chunks, embedding=embedding_model)\n",
    "retriever = vectorstore.as_retriever()\n"
   ]
  },
  {
   "cell_type": "code",
   "execution_count": 13,
   "id": "a7ca51c4",
   "metadata": {},
   "outputs": [],
   "source": [
    "from langchain.llms import Ollama\n",
    "\n",
    "# update this to load the different model\n",
    "\n",
    "# Initialize Ollama with the gemma3 model\n",
    "llm = Ollama(model=\"gemma3\")\n",
    "  "
   ]
  },
  {
   "cell_type": "code",
   "execution_count": 14,
   "id": "adc1b415",
   "metadata": {},
   "outputs": [
    {
     "name": "stdout",
     "output_type": "stream",
     "text": [
      "Answer: Here's a summary of the text:\n",
      "\n",
      "The text consists of four SMS messages sent on March 29, 2025. The messages were sent from two different phone numbers (+918765060836 and +919984625856) and contain varying messages including \"Test,\" \"Action,\" \"Ye test msg main using python automated way me bheja h...\" and \"Boobiee!!!!!\".\n"
     ]
    }
   ],
   "source": [
    "from langchain.chains import RetrievalQA\n",
    "# Step 6: RAG chain\n",
    "rag_chain = RetrievalQA.from_chain_type(\n",
    "    llm=llm,\n",
    "    retriever=retriever,\n",
    "    return_source_documents=True\n",
    ")\n",
    "\n",
    "# Step 7: Ask a question\n",
    "query = \"What is the summary of the text?\"\n",
    "response = rag_chain(query)\n",
    "\n",
    "print(\"Answer:\", response['result'])"
   ]
  },
  {
   "cell_type": "code",
   "execution_count": null,
   "id": "c1151ecb",
   "metadata": {},
   "outputs": [],
   "source": []
  }
 ],
 "metadata": {
  "kernelspec": {
   "display_name": "base",
   "language": "python",
   "name": "python3"
  },
  "language_info": {
   "codemirror_mode": {
    "name": "ipython",
    "version": 3
   },
   "file_extension": ".py",
   "mimetype": "text/x-python",
   "name": "python",
   "nbconvert_exporter": "python",
   "pygments_lexer": "ipython3",
   "version": "3.12.7"
  }
 },
 "nbformat": 4,
 "nbformat_minor": 5
}
