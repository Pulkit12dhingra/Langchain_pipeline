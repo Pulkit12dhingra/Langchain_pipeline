{
 "cells": [
  {
   "cell_type": "code",
   "execution_count": 1,
   "id": "a148f4e6",
   "metadata": {},
   "outputs": [
    {
     "name": "stdout",
     "output_type": "stream",
     "text": [
      "Requirement already satisfied: aiohappyeyeballs==2.6.1 in /opt/anaconda3/lib/python3.12/site-packages (from -r requirements.txt (line 1)) (2.6.1)\n",
      "Requirement already satisfied: aiohttp==3.11.18 in /opt/anaconda3/lib/python3.12/site-packages (from -r requirements.txt (line 2)) (3.11.18)\n",
      "Requirement already satisfied: aiosignal==1.3.2 in /opt/anaconda3/lib/python3.12/site-packages (from -r requirements.txt (line 3)) (1.3.2)\n",
      "Requirement already satisfied: altair==5.5.0 in /opt/anaconda3/lib/python3.12/site-packages (from -r requirements.txt (line 4)) (5.5.0)\n",
      "Requirement already satisfied: annotated-types==0.7.0 in /opt/anaconda3/lib/python3.12/site-packages (from -r requirements.txt (line 5)) (0.7.0)\n",
      "Requirement already satisfied: anyio==4.9.0 in /opt/anaconda3/lib/python3.12/site-packages (from -r requirements.txt (line 6)) (4.9.0)\n",
      "Requirement already satisfied: attrs==25.3.0 in /opt/anaconda3/lib/python3.12/site-packages (from -r requirements.txt (line 7)) (25.3.0)\n",
      "Requirement already satisfied: blinker==1.9.0 in /opt/anaconda3/lib/python3.12/site-packages (from -r requirements.txt (line 8)) (1.9.0)\n",
      "Requirement already satisfied: cachetools==5.5.2 in /opt/anaconda3/lib/python3.12/site-packages (from -r requirements.txt (line 9)) (5.5.2)\n",
      "Requirement already satisfied: certifi==2025.4.26 in /opt/anaconda3/lib/python3.12/site-packages (from -r requirements.txt (line 10)) (2025.4.26)\n",
      "Requirement already satisfied: charset-normalizer==3.4.2 in /opt/anaconda3/lib/python3.12/site-packages (from -r requirements.txt (line 11)) (3.4.2)\n",
      "Requirement already satisfied: click==8.2.0 in /opt/anaconda3/lib/python3.12/site-packages (from -r requirements.txt (line 12)) (8.2.0)\n",
      "Requirement already satisfied: dataclasses-json==0.6.7 in /opt/anaconda3/lib/python3.12/site-packages (from -r requirements.txt (line 13)) (0.6.7)\n",
      "Requirement already satisfied: faiss-cpu==1.11.0 in /opt/anaconda3/lib/python3.12/site-packages (from -r requirements.txt (line 14)) (1.11.0)\n",
      "Requirement already satisfied: filelock==3.18.0 in /opt/anaconda3/lib/python3.12/site-packages (from -r requirements.txt (line 15)) (3.18.0)\n",
      "Requirement already satisfied: frozenlist==1.6.0 in /opt/anaconda3/lib/python3.12/site-packages (from -r requirements.txt (line 16)) (1.6.0)\n",
      "Requirement already satisfied: fsspec==2025.3.2 in /opt/anaconda3/lib/python3.12/site-packages (from -r requirements.txt (line 17)) (2025.3.2)\n",
      "Requirement already satisfied: gitdb==4.0.12 in /opt/anaconda3/lib/python3.12/site-packages (from -r requirements.txt (line 18)) (4.0.12)\n",
      "Requirement already satisfied: GitPython==3.1.44 in /opt/anaconda3/lib/python3.12/site-packages (from -r requirements.txt (line 19)) (3.1.44)\n",
      "Requirement already satisfied: h11==0.16.0 in /opt/anaconda3/lib/python3.12/site-packages (from -r requirements.txt (line 20)) (0.16.0)\n",
      "Requirement already satisfied: httpcore==1.0.9 in /opt/anaconda3/lib/python3.12/site-packages (from -r requirements.txt (line 21)) (1.0.9)\n",
      "Requirement already satisfied: httpx==0.28.1 in /opt/anaconda3/lib/python3.12/site-packages (from -r requirements.txt (line 22)) (0.28.1)\n",
      "Requirement already satisfied: httpx-sse==0.4.0 in /opt/anaconda3/lib/python3.12/site-packages (from -r requirements.txt (line 23)) (0.4.0)\n",
      "Requirement already satisfied: huggingface-hub==0.31.4 in /opt/anaconda3/lib/python3.12/site-packages (from -r requirements.txt (line 24)) (0.31.4)\n",
      "Requirement already satisfied: idna==3.10 in /opt/anaconda3/lib/python3.12/site-packages (from -r requirements.txt (line 25)) (3.10)\n",
      "Requirement already satisfied: Jinja2==3.1.6 in /opt/anaconda3/lib/python3.12/site-packages (from -r requirements.txt (line 26)) (3.1.6)\n",
      "Requirement already satisfied: joblib==1.5.0 in /opt/anaconda3/lib/python3.12/site-packages (from -r requirements.txt (line 27)) (1.5.0)\n",
      "Requirement already satisfied: jsonpatch==1.33 in /opt/anaconda3/lib/python3.12/site-packages (from -r requirements.txt (line 28)) (1.33)\n",
      "Requirement already satisfied: jsonpointer==3.0.0 in /opt/anaconda3/lib/python3.12/site-packages (from -r requirements.txt (line 29)) (3.0.0)\n",
      "Requirement already satisfied: jsonschema==4.23.0 in /opt/anaconda3/lib/python3.12/site-packages (from -r requirements.txt (line 30)) (4.23.0)\n",
      "Requirement already satisfied: jsonschema-specifications==2025.4.1 in /opt/anaconda3/lib/python3.12/site-packages (from -r requirements.txt (line 31)) (2025.4.1)\n",
      "Requirement already satisfied: langchain==0.3.25 in /opt/anaconda3/lib/python3.12/site-packages (from -r requirements.txt (line 32)) (0.3.25)\n",
      "Requirement already satisfied: langchain-community==0.3.24 in /opt/anaconda3/lib/python3.12/site-packages (from -r requirements.txt (line 33)) (0.3.24)\n",
      "Requirement already satisfied: langchain-core==0.3.60 in /opt/anaconda3/lib/python3.12/site-packages (from -r requirements.txt (line 34)) (0.3.60)\n",
      "Requirement already satisfied: langchain-huggingface==0.2.0 in /opt/anaconda3/lib/python3.12/site-packages (from -r requirements.txt (line 35)) (0.2.0)\n",
      "Requirement already satisfied: langchain-ollama==0.3.3 in /opt/anaconda3/lib/python3.12/site-packages (from -r requirements.txt (line 36)) (0.3.3)\n",
      "Requirement already satisfied: langchain-text-splitters==0.3.8 in /opt/anaconda3/lib/python3.12/site-packages (from -r requirements.txt (line 37)) (0.3.8)\n",
      "Requirement already satisfied: langsmith==0.3.42 in /opt/anaconda3/lib/python3.12/site-packages (from -r requirements.txt (line 38)) (0.3.42)\n",
      "Requirement already satisfied: MarkupSafe==3.0.2 in /opt/anaconda3/lib/python3.12/site-packages (from -r requirements.txt (line 39)) (3.0.2)\n",
      "Requirement already satisfied: marshmallow==3.26.1 in /opt/anaconda3/lib/python3.12/site-packages (from -r requirements.txt (line 40)) (3.26.1)\n",
      "Requirement already satisfied: mpmath==1.3.0 in /opt/anaconda3/lib/python3.12/site-packages (from -r requirements.txt (line 41)) (1.3.0)\n",
      "Requirement already satisfied: multidict==6.4.4 in /opt/anaconda3/lib/python3.12/site-packages (from -r requirements.txt (line 42)) (6.4.4)\n",
      "Requirement already satisfied: mypy_extensions==1.1.0 in /opt/anaconda3/lib/python3.12/site-packages (from -r requirements.txt (line 43)) (1.1.0)\n",
      "Requirement already satisfied: narwhals==1.40.0 in /opt/anaconda3/lib/python3.12/site-packages (from -r requirements.txt (line 44)) (1.40.0)\n",
      "Requirement already satisfied: networkx==3.4.2 in /opt/anaconda3/lib/python3.12/site-packages (from -r requirements.txt (line 45)) (3.4.2)\n",
      "Requirement already satisfied: numpy==1.26.4 in /opt/anaconda3/lib/python3.12/site-packages (from -r requirements.txt (line 46)) (1.26.4)\n",
      "Requirement already satisfied: ollama==0.4.8 in /opt/anaconda3/lib/python3.12/site-packages (from -r requirements.txt (line 47)) (0.4.8)\n",
      "Requirement already satisfied: orjson==3.10.18 in /opt/anaconda3/lib/python3.12/site-packages (from -r requirements.txt (line 48)) (3.10.18)\n",
      "Requirement already satisfied: packaging==24.2 in /opt/anaconda3/lib/python3.12/site-packages (from -r requirements.txt (line 49)) (24.2)\n",
      "Requirement already satisfied: pandas==2.2.3 in /opt/anaconda3/lib/python3.12/site-packages (from -r requirements.txt (line 50)) (2.2.3)\n",
      "Requirement already satisfied: pillow==11.2.1 in /opt/anaconda3/lib/python3.12/site-packages (from -r requirements.txt (line 51)) (11.2.1)\n",
      "Requirement already satisfied: propcache==0.3.1 in /opt/anaconda3/lib/python3.12/site-packages (from -r requirements.txt (line 52)) (0.3.1)\n",
      "Requirement already satisfied: protobuf==3.20.0 in /opt/anaconda3/lib/python3.12/site-packages (from -r requirements.txt (line 53)) (3.20.0)\n",
      "Requirement already satisfied: pyarrow==20.0.0 in /opt/anaconda3/lib/python3.12/site-packages (from -r requirements.txt (line 54)) (20.0.0)\n",
      "Requirement already satisfied: pydantic==2.11.4 in /opt/anaconda3/lib/python3.12/site-packages (from -r requirements.txt (line 55)) (2.11.4)\n",
      "Requirement already satisfied: pydantic-settings==2.9.1 in /opt/anaconda3/lib/python3.12/site-packages (from -r requirements.txt (line 56)) (2.9.1)\n",
      "Requirement already satisfied: pydantic_core==2.33.2 in /opt/anaconda3/lib/python3.12/site-packages (from -r requirements.txt (line 57)) (2.33.2)\n",
      "Requirement already satisfied: pydeck==0.9.1 in /opt/anaconda3/lib/python3.12/site-packages (from -r requirements.txt (line 58)) (0.9.1)\n",
      "Requirement already satisfied: python-dateutil==2.9.0.post0 in /opt/anaconda3/lib/python3.12/site-packages (from -r requirements.txt (line 59)) (2.9.0.post0)\n",
      "Requirement already satisfied: python-dotenv==1.1.0 in /opt/anaconda3/lib/python3.12/site-packages (from -r requirements.txt (line 60)) (1.1.0)\n",
      "Requirement already satisfied: pytz==2025.2 in /opt/anaconda3/lib/python3.12/site-packages (from -r requirements.txt (line 61)) (2025.2)\n",
      "Requirement already satisfied: PyYAML==6.0.2 in /opt/anaconda3/lib/python3.12/site-packages (from -r requirements.txt (line 62)) (6.0.2)\n",
      "Requirement already satisfied: referencing==0.36.2 in /opt/anaconda3/lib/python3.12/site-packages (from -r requirements.txt (line 63)) (0.36.2)\n",
      "Requirement already satisfied: regex==2024.11.6 in /opt/anaconda3/lib/python3.12/site-packages (from -r requirements.txt (line 64)) (2024.11.6)\n",
      "Requirement already satisfied: requests==2.32.3 in /opt/anaconda3/lib/python3.12/site-packages (from -r requirements.txt (line 65)) (2.32.3)\n",
      "Requirement already satisfied: requests-toolbelt==1.0.0 in /opt/anaconda3/lib/python3.12/site-packages (from -r requirements.txt (line 66)) (1.0.0)\n",
      "Requirement already satisfied: rpds-py==0.25.0 in /opt/anaconda3/lib/python3.12/site-packages (from -r requirements.txt (line 67)) (0.25.0)\n",
      "Requirement already satisfied: safetensors==0.5.3 in /opt/anaconda3/lib/python3.12/site-packages (from -r requirements.txt (line 68)) (0.5.3)\n",
      "Requirement already satisfied: scikit-learn==1.6.1 in /opt/anaconda3/lib/python3.12/site-packages (from -r requirements.txt (line 69)) (1.6.1)\n",
      "Requirement already satisfied: scipy==1.15.3 in /opt/anaconda3/lib/python3.12/site-packages (from -r requirements.txt (line 70)) (1.15.3)\n",
      "Requirement already satisfied: sentence-transformers==4.1.0 in /opt/anaconda3/lib/python3.12/site-packages (from -r requirements.txt (line 71)) (4.1.0)\n",
      "Requirement already satisfied: setuptools==80.7.1 in /opt/anaconda3/lib/python3.12/site-packages (from -r requirements.txt (line 72)) (80.7.1)\n",
      "Requirement already satisfied: six==1.17.0 in /opt/anaconda3/lib/python3.12/site-packages (from -r requirements.txt (line 73)) (1.17.0)\n",
      "Requirement already satisfied: smmap==5.0.2 in /opt/anaconda3/lib/python3.12/site-packages (from -r requirements.txt (line 74)) (5.0.2)\n",
      "Requirement already satisfied: sniffio==1.3.1 in /opt/anaconda3/lib/python3.12/site-packages (from -r requirements.txt (line 75)) (1.3.1)\n",
      "Requirement already satisfied: SQLAlchemy==2.0.41 in /opt/anaconda3/lib/python3.12/site-packages (from -r requirements.txt (line 76)) (2.0.41)\n",
      "Requirement already satisfied: streamlit==1.45.1 in /opt/anaconda3/lib/python3.12/site-packages (from -r requirements.txt (line 77)) (1.45.1)\n",
      "Requirement already satisfied: sympy==1.14.0 in /opt/anaconda3/lib/python3.12/site-packages (from -r requirements.txt (line 78)) (1.14.0)\n",
      "Requirement already satisfied: tenacity==9.1.2 in /opt/anaconda3/lib/python3.12/site-packages (from -r requirements.txt (line 79)) (9.1.2)\n",
      "Requirement already satisfied: threadpoolctl==3.6.0 in /opt/anaconda3/lib/python3.12/site-packages (from -r requirements.txt (line 80)) (3.6.0)\n",
      "Requirement already satisfied: tokenizers==0.21.1 in /opt/anaconda3/lib/python3.12/site-packages (from -r requirements.txt (line 81)) (0.21.1)\n",
      "Requirement already satisfied: toml==0.10.2 in /opt/anaconda3/lib/python3.12/site-packages (from -r requirements.txt (line 82)) (0.10.2)\n",
      "Requirement already satisfied: torch==2.7.0 in /opt/anaconda3/lib/python3.12/site-packages (from -r requirements.txt (line 83)) (2.7.0)\n",
      "Requirement already satisfied: tornado==6.5 in /opt/anaconda3/lib/python3.12/site-packages (from -r requirements.txt (line 84)) (6.5)\n",
      "Requirement already satisfied: tqdm==4.67.1 in /opt/anaconda3/lib/python3.12/site-packages (from -r requirements.txt (line 85)) (4.67.1)\n",
      "Requirement already satisfied: transformers==4.51.3 in /opt/anaconda3/lib/python3.12/site-packages (from -r requirements.txt (line 86)) (4.51.3)\n",
      "Requirement already satisfied: typing-inspect==0.9.0 in /opt/anaconda3/lib/python3.12/site-packages (from -r requirements.txt (line 87)) (0.9.0)\n",
      "Requirement already satisfied: typing-inspection==0.4.0 in /opt/anaconda3/lib/python3.12/site-packages (from -r requirements.txt (line 88)) (0.4.0)\n",
      "Requirement already satisfied: typing_extensions==4.13.2 in /opt/anaconda3/lib/python3.12/site-packages (from -r requirements.txt (line 89)) (4.13.2)\n",
      "Requirement already satisfied: tzdata==2025.2 in /opt/anaconda3/lib/python3.12/site-packages (from -r requirements.txt (line 90)) (2025.2)\n",
      "Requirement already satisfied: urllib3==2.4.0 in /opt/anaconda3/lib/python3.12/site-packages (from -r requirements.txt (line 91)) (2.4.0)\n",
      "Requirement already satisfied: yarl==1.20.0 in /opt/anaconda3/lib/python3.12/site-packages (from -r requirements.txt (line 92)) (1.20.0)\n",
      "Requirement already satisfied: zstandard==0.23.0 in /opt/anaconda3/lib/python3.12/site-packages (from -r requirements.txt (line 93)) (0.23.0)\n",
      "Note: you may need to restart the kernel to use updated packages.\n"
     ]
    }
   ],
   "source": [
    "%pip install -r requirements.txt"
   ]
  },
  {
   "cell_type": "markdown",
   "id": "44ea7d1f",
   "metadata": {},
   "source": [
    "In this one we'll extend the original code and integrate AI-Agents and self reasoning block.\n",
    "We are using langGraph for better code orchestration."
   ]
  },
  {
   "cell_type": "code",
   "execution_count": 2,
   "id": "cfc6b97f",
   "metadata": {},
   "outputs": [],
   "source": [
    "from langchain.document_loaders import TextLoader\n",
    "import os\n",
    "\n",
    "# Load documents\n",
    "documents = []\n",
    "data_dir = \"data\"\n",
    "for filename in os.listdir(data_dir):\n",
    "    if filename.endswith(\".txt\"):\n",
    "        loader = TextLoader(os.path.join(data_dir, filename))\n",
    "        documents.extend(loader.load())"
   ]
  },
  {
   "cell_type": "code",
   "execution_count": 3,
   "id": "89d13338",
   "metadata": {},
   "outputs": [],
   "source": [
    "from langchain.text_splitter import RecursiveCharacterTextSplitter\n",
    "\n",
    "# Chunking\n",
    "text_splitter = RecursiveCharacterTextSplitter(chunk_size=500, chunk_overlap=50)\n",
    "chunks = text_splitter.split_documents(documents)"
   ]
  },
  {
   "cell_type": "code",
   "execution_count": 4,
   "id": "abad25a4",
   "metadata": {},
   "outputs": [
    {
     "name": "stderr",
     "output_type": "stream",
     "text": [
      "/var/folders/cr/zw_bcxpn257g4khbkhrtn_vm0000gn/T/ipykernel_29274/2890209881.py:4: LangChainDeprecationWarning: The class `HuggingFaceEmbeddings` was deprecated in LangChain 0.2.2 and will be removed in 1.0. An updated version of the class exists in the :class:`~langchain-huggingface package and should be used instead. To use it run `pip install -U :class:`~langchain-huggingface` and import as `from :class:`~langchain_huggingface import HuggingFaceEmbeddings``.\n",
      "  embedding_model = HuggingFaceEmbeddings(model_name=\"sentence-transformers/all-MiniLM-L6-v2\")\n"
     ]
    }
   ],
   "source": [
    "from langchain.embeddings import HuggingFaceEmbeddings\n",
    "\n",
    "# Embedding\n",
    "embedding_model = HuggingFaceEmbeddings(model_name=\"sentence-transformers/all-MiniLM-L6-v2\")\n"
   ]
  },
  {
   "cell_type": "code",
   "execution_count": 5,
   "id": "e5e6d696",
   "metadata": {},
   "outputs": [],
   "source": [
    "from langchain.vectorstores import FAISS\n",
    "\n",
    "vectorstore = FAISS.from_documents(chunks, embedding=embedding_model)\n",
    "retriever = vectorstore.as_retriever()"
   ]
  },
  {
   "cell_type": "code",
   "execution_count": 6,
   "id": "616ead0a",
   "metadata": {},
   "outputs": [
    {
     "name": "stderr",
     "output_type": "stream",
     "text": [
      "/var/folders/cr/zw_bcxpn257g4khbkhrtn_vm0000gn/T/ipykernel_29274/807365898.py:4: LangChainDeprecationWarning: The class `Ollama` was deprecated in LangChain 0.3.1 and will be removed in 1.0.0. An updated version of the class exists in the :class:`~langchain-ollama package and should be used instead. To use it run `pip install -U :class:`~langchain-ollama` and import as `from :class:`~langchain_ollama import OllamaLLM``.\n",
      "  llm = Ollama(model=\"gemma3\")\n"
     ]
    }
   ],
   "source": [
    "from langchain.llms import Ollama\n",
    "\n",
    "# LLM initialization\n",
    "llm = Ollama(model=\"gemma3\")\n"
   ]
  },
  {
   "cell_type": "code",
   "execution_count": 7,
   "id": "ad73bae5",
   "metadata": {},
   "outputs": [],
   "source": [
    "from langchain_core.prompts import ChatPromptTemplate, MessagesPlaceholder\n",
    "from langchain.chains import create_history_aware_retriever\n",
    "\n",
    "# History-aware retriever\n",
    "retriever_prompt = (\n",
    "    \"Given a chat history and the latest user question which might reference context in the chat history, \"\n",
    "    \"formulate a standalone question which can be understood without the chat history. \"\n",
    "    \"Do NOT answer the question, just reformulate it if needed and otherwise return it as is.\"\n",
    ")\n",
    "contextualize_q_prompt = ChatPromptTemplate.from_messages([\n",
    "    (\"system\", retriever_prompt),\n",
    "    MessagesPlaceholder(variable_name=\"chat_history\"),\n",
    "    (\"human\", \"{input}\")\n",
    "])\n",
    "history_aware_retriever = create_history_aware_retriever(\n",
    "    llm, retriever, contextualize_q_prompt\n",
    ")"
   ]
  },
  {
   "cell_type": "markdown",
   "id": "cfaba15b",
   "metadata": {},
   "source": [
    "LangGraph"
   ]
  },
  {
   "cell_type": "code",
   "execution_count": 8,
   "id": "70e1393e",
   "metadata": {},
   "outputs": [],
   "source": [
    "\n",
    "from langchain.schema import BaseMessage\n",
    "from typing import TypedDict, List\n",
    "\n",
    "# Define the shared state for LangGraph\n",
    "class GraphState(TypedDict):\n",
    "    query: str\n",
    "    chat_history: List[BaseMessage]\n",
    "    documents: List\n",
    "    reasoning: str\n",
    "    answer: str"
   ]
  },
  {
   "cell_type": "code",
   "execution_count": 9,
   "id": "4aa6bb57",
   "metadata": {},
   "outputs": [],
   "source": [
    "# Input node\n",
    "def input_node(state: GraphState) -> GraphState:\n",
    "    return state\n"
   ]
  },
  {
   "cell_type": "code",
   "execution_count": 10,
   "id": "79925293",
   "metadata": {},
   "outputs": [],
   "source": [
    "# Retrieval node\n",
    "def retrieve_node(state: GraphState) -> GraphState:\n",
    "    question = state['query']\n",
    "    history = state['chat_history']\n",
    "    standalone_question = history_aware_retriever.invoke({\"chat_history\": history, \"input\": question})\n",
    "    state[\"documents\"] = standalone_question\n",
    "    return state"
   ]
  },
  {
   "cell_type": "code",
   "execution_count": 11,
   "id": "e3a26701",
   "metadata": {},
   "outputs": [],
   "source": [
    "from langchain_core.prompts import PromptTemplate\n",
    "# Self-reasoning node\n",
    "def self_reasoning_node(state: GraphState) -> GraphState:\n",
    "    reasoning_prompt = PromptTemplate.from_template(\n",
    "        \"Given the question: {query}\\nand retrieved docs: {docs}\\nWhat is a step-by-step reasoning path?\"\n",
    "    )\n",
    "    reasoning_chain = reasoning_prompt | llm\n",
    "    reasoning = reasoning_chain.invoke({\"query\": state[\"query\"], \"docs\": state[\"documents\"]})\n",
    "    state[\"reasoning\"] = reasoning\n",
    "    return state"
   ]
  },
  {
   "cell_type": "code",
   "execution_count": 12,
   "id": "03373735",
   "metadata": {},
   "outputs": [],
   "source": [
    "# Answer generation node\n",
    "def generate_answer_node(state: GraphState) -> GraphState:\n",
    "    full_context = f\"{state['reasoning']}\\n\\n{state['documents']}\"\n",
    "    final_prompt = PromptTemplate.from_template(\n",
    "        \"Answer the question: {query}\\nUse context:\\n{context}\"\n",
    "    )\n",
    "    answer_chain = final_prompt | llm\n",
    "    answer = answer_chain.invoke({\"query\": state[\"query\"], \"context\": full_context})\n",
    "    state[\"answer\"] = answer\n",
    "    return state"
   ]
  },
  {
   "cell_type": "code",
   "execution_count": 13,
   "id": "2af48b45",
   "metadata": {},
   "outputs": [],
   "source": [
    "\n",
    "# Output node\n",
    "def output_node(state: GraphState) -> GraphState:\n",
    "    return state"
   ]
  },
  {
   "cell_type": "code",
   "execution_count": 14,
   "id": "06d069a6",
   "metadata": {},
   "outputs": [
    {
     "data": {
      "text/plain": [
       "<langgraph.graph.state.StateGraph at 0x330955be0>"
      ]
     },
     "execution_count": 14,
     "metadata": {},
     "output_type": "execute_result"
    }
   ],
   "source": [
    "from langgraph.graph import StateGraph\n",
    "\n",
    "# Build the LangGraph\n",
    "graph = StateGraph(GraphState)\n",
    "graph.add_node(\"input\", input_node)\n",
    "graph.add_node(\"retrieve\", retrieve_node)\n",
    "graph.add_node(\"reason\", self_reasoning_node)\n",
    "graph.add_node(\"generate\", generate_answer_node)\n",
    "graph.add_node(\"output\", output_node)\n",
    "\n",
    "graph.set_entry_point(\"input\")\n",
    "graph.add_edge(\"input\", \"retrieve\")\n",
    "graph.add_edge(\"retrieve\", \"reason\")\n",
    "graph.add_edge(\"reason\", \"generate\")\n",
    "graph.add_edge(\"generate\", \"output\")\n",
    "graph.set_finish_point(\"output\")"
   ]
  },
  {
   "cell_type": "code",
   "execution_count": 15,
   "id": "d969701c",
   "metadata": {},
   "outputs": [],
   "source": [
    "# Compile app\n",
    "app = graph.compile()"
   ]
  },
  {
   "cell_type": "code",
   "execution_count": 16,
   "id": "6a1c4ce6",
   "metadata": {},
   "outputs": [
    {
     "name": "stdout",
     "output_type": "stream",
     "text": [
      "Final Answer: Here’s a summary of the main points of the documents:\n",
      "\n",
      "The documents explore Artificial Intelligence (AI), which encompasses a broad range of intelligent machine tasks. AI is categorized into several types:\n",
      "\n",
      "*   **Narrow AI:** Specialized systems like chatbots and recommendation engines.\n",
      "*   **General AI:** Hypothetical AI with human-level intelligence.\n",
      "*   **Super AI:** AI exceeding human intelligence – a theoretical concept.\n",
      "\n",
      "Natural Language Processing (NLP) is a key subfield focused on enabling machines to understand and generate human language, exemplified by technologies like Siri and Alexa.\n",
      "\n",
      "However, the development and use of AI raises significant ethical concerns, including bias, job displacement, privacy, and accountability.  Furthermore, the need for Explainable AI (XAI) is highlighted to promote transparency and trust in AI systems by providing understandable justifications for their decisions.\n"
     ]
    }
   ],
   "source": [
    "# Example invocation\n",
    "example_query = \"Summarize the main points of the document.\"\n",
    "example_history = []  # Fill with actual history if available\n",
    "\n",
    "result = app.invoke({\n",
    "    \"query\": example_query,\n",
    "    \"chat_history\": example_history\n",
    "})\n",
    "\n",
    "print(\"Final Answer:\", result[\"answer\"])"
   ]
  },
  {
   "cell_type": "code",
   "execution_count": 17,
   "id": "b9ac4f44",
   "metadata": {},
   "outputs": [
    {
     "name": "stdout",
     "output_type": "stream",
     "text": [
      "Final Answer: AI ethics: bias, job loss, privacy, misuse. Trust & accountability vital. (99 characters)\n"
     ]
    }
   ],
   "source": [
    "# Example invocation\n",
    "example_query = \"rephrase previous answer in 100 characters.\"\n",
    "result = app.invoke({\n",
    "    \"query\": example_query,\n",
    "    \"chat_history\": example_history\n",
    "})\n",
    "\n",
    "print(\"Final Answer:\", result[\"answer\"])"
   ]
  },
  {
   "cell_type": "code",
   "execution_count": null,
   "id": "33dcf7b5",
   "metadata": {},
   "outputs": [],
   "source": []
  }
 ],
 "metadata": {
  "kernelspec": {
   "display_name": "base",
   "language": "python",
   "name": "python3"
  },
  "language_info": {
   "codemirror_mode": {
    "name": "ipython",
    "version": 3
   },
   "file_extension": ".py",
   "mimetype": "text/x-python",
   "name": "python",
   "nbconvert_exporter": "python",
   "pygments_lexer": "ipython3",
   "version": "3.12.7"
  }
 },
 "nbformat": 4,
 "nbformat_minor": 5
}
